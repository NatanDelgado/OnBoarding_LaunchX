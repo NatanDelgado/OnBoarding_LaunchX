{
 "cells": [
  {
   "cell_type": "markdown",
   "metadata": {},
   "source": [
    "# EJERCICIO 1"
   ]
  },
  {
   "cell_type": "code",
   "execution_count": 9,
   "metadata": {},
   "outputs": [
    {
     "name": "stdout",
     "output_type": "stream",
     "text": [
      "628949330\n",
      "390577533.93\n"
     ]
    }
   ],
   "source": [
    "Tierra = 149597870\n",
    "Jupiter = 778547200\n",
    "distancia =  Jupiter - Tierra \n",
    "distanciamillas = distancia*0.621\n",
    "print(distancia)\n",
    "print(distanciamillas)\n"
   ]
  },
  {
   "cell_type": "markdown",
   "metadata": {},
   "source": [
    "# EJERCICIO 2"
   ]
  },
  {
   "cell_type": "code",
   "execution_count": 12,
   "metadata": {},
   "outputs": [
    {
     "name": "stdout",
     "output_type": "stream",
     "text": [
      "-1622600000\n",
      "-1007634600.0\n"
     ]
    }
   ],
   "source": [
    "SolaPlaneta1 = abs(int(input('Distancia del sol al planeta 1:')))\n",
    "SolaPlaneta2 = abs(int(input('Distancia del sol al planeta 2:')))\n",
    "diferencia = SolaPlaneta2 - SolaPlaneta1\n",
    "difenciamillas = diferencia*0.621\n",
    "print(diferencia)\n",
    "print(difenciamillas)\n",
    "\n"
   ]
  },
  {
   "cell_type": "code",
   "execution_count": null,
   "metadata": {},
   "outputs": [],
   "source": [
    "Mercurio = 57900000\n",
    "Venus = 108200000\n",
    "Tierra = 149600000\n",
    "Marte = 227900000\n",
    "Júpiter = 778600000\n",
    "Saturno = 1433500000\n",
    "Urano = 2872500000\n",
    "Neptuno = 4495100000"
   ]
  }
 ],
 "metadata": {
  "interpreter": {
   "hash": "669f5abd92f1a410df15b0643b9f42360e277a412fc08ae8bc7d7911cf7e8f3d"
  },
  "kernelspec": {
   "display_name": "Python 3.10.2 64-bit",
   "language": "python",
   "name": "python3"
  },
  "language_info": {
   "codemirror_mode": {
    "name": "ipython",
    "version": 3
   },
   "file_extension": ".py",
   "mimetype": "text/x-python",
   "name": "python",
   "nbconvert_exporter": "python",
   "pygments_lexer": "ipython3",
   "version": "3.10.2"
  },
  "orig_nbformat": 4
 },
 "nbformat": 4,
 "nbformat_minor": 2
}
