{
 "cells": [
  {
   "cell_type": "markdown",
   "metadata": {},
   "source": [
    "# EJERCICIO 1"
   ]
  },
  {
   "cell_type": "code",
   "execution_count": null,
   "metadata": {},
   "outputs": [],
   "source": [
    "def tanques(tanque1, tanque2, tanque3):\n",
    "    promedio = (tanque1 + tanque2 + tanque3) / 3\n",
    "    print(f'Tanque 1: {tanque1}%\\nTanque 2: {tanque2}%\\nTanque 3: {tanque3}%\\nPromedio: {promedio}%')\n",
    "tanques(100, 100, 100)"
   ]
  },
  {
   "cell_type": "code",
   "execution_count": null,
   "metadata": {},
   "outputs": [],
   "source": [
    "def promedio(tanques):\n",
    "    total_combustible = sum(tanques)\n",
    "    total_tanques = len(tanques)\n",
    "    return total_combustible / total_tanques\n",
    "print(f'Promedio: {promedio(tanques=[90,90,90])}')\n"
   ]
  },
  {
   "cell_type": "code",
   "execution_count": null,
   "metadata": {},
   "outputs": [],
   "source": [
    "def tanques(tanque1, tanque2, tanque3):\n",
    "    print(f'Tanque 1: {tanque1}%\\nTanque 2: {tanque2}%\\nTanque 3: {tanque3}%\\nPromedio: {promedio([tanque1, tanque2, tanque3])}')\n",
    "tanques(80, 90, 80)"
   ]
  },
  {
   "cell_type": "markdown",
   "metadata": {},
   "source": [
    "# EJERCICIO 2"
   ]
  },
  {
   "cell_type": "code",
   "execution_count": 36,
   "metadata": {},
   "outputs": [
    {
     "name": "stdout",
     "output_type": "stream",
     "text": [
      "    Destino: Marte\n",
      "    Hora de lanzamiento: 10hrs\n",
      "    Tiempo de vuelo: 40hrs\n",
      "    Tiempo total de viaje: 50 hrs\n",
      "    Combustible Externo: 800Gal\n",
      "    Combutible Interno: 500Gal\n",
      "    combustible total: 1300Gal    \n"
     ]
    }
   ],
   "source": [
    "def informe(Hora_Lanzamiento, Tiempo_Vuelo, Destino, Tanque_Externo, Tanque_Interno):\n",
    "    return f\"\"\"    Destino: {Destino}\n",
    "    Hora de lanzamiento: {Hora_Lanzamiento}hrs\n",
    "    Tiempo de vuelo: {Tiempo_Vuelo}hrs\n",
    "    Tiempo total de viaje: {Hora_Lanzamiento + Tiempo_Vuelo} hrs\n",
    "    Combustible Externo: {Tanque_Externo}Gal\n",
    "    Combustible Interno: {Tanque_Interno}Gal\n",
    "    combustible total: {Tanque_Externo + Tanque_Interno}Gal    \"\"\"\n",
    "print(informe(10, 40, 'Marte', 800, 500))\n"
   ]
  },
  {
   "cell_type": "code",
   "execution_count": 35,
   "metadata": {},
   "outputs": [
    {
     "name": "stdout",
     "output_type": "stream",
     "text": [
      "    Destino: Marte\n",
      "    Tiempo total de viaje: 50 hrs\n",
      "    combustible total: 1300Gal    \n"
     ]
    }
   ],
   "source": [
    "def informe(Destino, *horas, **combustible):\n",
    "    return f\"\"\"    Destino: {Destino}\n",
    "    Tiempo total de viaje: {sum(horas)} hrs\n",
    "    combustible total: {sum(combustible.values())}Gal    \"\"\"\n",
    "    \n",
    "print(informe('Marte', 10, 40, externo=800, interno=500))"
   ]
  },
  {
   "cell_type": "code",
   "execution_count": 71,
   "metadata": {},
   "outputs": [
    {
     "name": "stdout",
     "output_type": "stream",
     "text": [
      "    Destino: Marte\n",
      "    Tiempo total de viaje: 50 hrs\n",
      "    combustible total: 1300Gal\n",
      "    tanque externo= 800Gal\n",
      "    tanque interno= 500Gal\n"
     ]
    }
   ],
   "source": [
    "def informe(Destino, *horas, **combustible):\n",
    "    reporte = f\"\"\"    Destino: {Destino}\n",
    "    Tiempo total de viaje: {sum(horas)} hrs\n",
    "    combustible total: {sum(combustible.values())}Gal\"\"\"\n",
    "    for tanque, galones in combustible.items():\n",
    "        reporte += f\"\"\"\\n    tanque {tanque}= {galones}Gal\"\"\"\n",
    "    return reporte\n",
    "\n",
    "print(informe('Marte', 10, 40, externo=800, interno=500))"
   ]
  }
 ],
 "metadata": {
  "interpreter": {
   "hash": "669f5abd92f1a410df15b0643b9f42360e277a412fc08ae8bc7d7911cf7e8f3d"
  },
  "kernelspec": {
   "display_name": "Python 3.10.2 64-bit",
   "language": "python",
   "name": "python3"
  },
  "language_info": {
   "codemirror_mode": {
    "name": "ipython",
    "version": 3
   },
   "file_extension": ".py",
   "mimetype": "text/x-python",
   "name": "python",
   "nbconvert_exporter": "python",
   "pygments_lexer": "ipython3",
   "version": "3.10.2"
  },
  "orig_nbformat": 4
 },
 "nbformat": 4,
 "nbformat_minor": 2
}
