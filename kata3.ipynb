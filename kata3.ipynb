{
 "cells": [
  {
   "cell_type": "markdown",
   "metadata": {},
   "source": [
    "# IF-ELSE"
   ]
  },
  {
   "cell_type": "code",
   "execution_count": 8,
   "metadata": {},
   "outputs": [
    {
     "name": "stdout",
     "output_type": "stream",
     "text": [
      "ALERTA ALERTA se acerca el asteroide a gran velocidad \n"
     ]
    }
   ],
   "source": [
    "Velocidad = input('Velocidad del asteroide:')\n",
    "Alerta = 25\n",
    "if int(Velocidad) > int(Alerta):\n",
    "    print('ALERTA ALERTA se acerca un asteroide a gran velocidad ')\n",
    "else:\n",
    "    print('Todo Normal')"
   ]
  },
  {
   "cell_type": "markdown",
   "metadata": {},
   "source": [
    "# IF-ELSE-ELIF"
   ]
  },
  {
   "cell_type": "code",
   "execution_count": 11,
   "metadata": {},
   "outputs": [
    {
     "name": "stdout",
     "output_type": "stream",
     "text": [
      "ALERTA ALERTA se acerca un asteroide BUSCA UNA LUZ EN EL CIELO\n"
     ]
    }
   ],
   "source": [
    "Velocidad = input('Velocidad del asteroide:')\n",
    "Alerta = 20\n",
    "if int(Velocidad) > int(Alerta):\n",
    "    print('ALERTA ALERTA se acerca un asteroide BUSCA UNA LUZ EN EL CIELO')\n",
    "elif int(Velocidad) == int(Alerta):\n",
    "    print('ALERTA ALERTA se acerca un asteroide BUSCA UNA LUZ EN EL CIELO')\n",
    "else:\n",
    "    print('Todo normal')"
   ]
  },
  {
   "cell_type": "markdown",
   "metadata": {},
   "source": [
    "# AND-OR"
   ]
  },
  {
   "cell_type": "code",
   "execution_count": 26,
   "metadata": {},
   "outputs": [
    {
     "name": "stdout",
     "output_type": "stream",
     "text": [
      "ALERTA ALERTA se acerca un asteroide BUSCA UNA LUZ EN EL CIELO\n"
     ]
    }
   ],
   "source": [
    "Velocidad = input('Velocidad del asteroide:')\n",
    "Alerta1 = 25\n",
    "Alerta2 = 20\n",
    "Dimension = input('Dimension del asteroide:')\n",
    "Tamaño1 = 25 \n",
    "Tamaño2 = 1000\n",
    "if int(Velocidad) > int(Alerta1) or int(Dimension) > int(Tamaño1) and int(Velocidad) >= int(Alerta2):\n",
    "    print('ALERTA ALERTA se acerca un asteroide BUSCA UNA LUZ EN EL CIELO')\n",
    "elif int(Dimension) < int(Tamaño1):\n",
    "    print('Todo normal')\n",
    "else:\n",
    "    print('Todo normal')"
   ]
  }
 ],
 "metadata": {
  "interpreter": {
   "hash": "669f5abd92f1a410df15b0643b9f42360e277a412fc08ae8bc7d7911cf7e8f3d"
  },
  "kernelspec": {
   "display_name": "Python 3.10.2 64-bit",
   "language": "python",
   "name": "python3"
  },
  "language_info": {
   "codemirror_mode": {
    "name": "ipython",
    "version": 3
   },
   "file_extension": ".py",
   "mimetype": "text/x-python",
   "name": "python",
   "nbconvert_exporter": "python",
   "pygments_lexer": "ipython3",
   "version": "3.10.2"
  },
  "orig_nbformat": 4
 },
 "nbformat": 4,
 "nbformat_minor": 2
}
