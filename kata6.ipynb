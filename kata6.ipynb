{
 "cells": [
  {
   "cell_type": "markdown",
   "metadata": {},
   "source": [
    "# EJERCICIO 1"
   ]
  },
  {
   "cell_type": "code",
   "execution_count": 33,
   "metadata": {},
   "outputs": [
    {
     "name": "stdout",
     "output_type": "stream",
     "text": [
      "Existen 8 planetas en el Sistema Solar\n",
      "Contando a  Pluton  existen 9 planetas en el Sistema Solar\n"
     ]
    }
   ],
   "source": [
    "planetas = ['Mercury', 'Venus', 'Earth', 'Mars', 'Jupiter', 'Saturn', 'Uranus', 'Neptune']\n",
    "print('Existen', len(planetas), 'planetas en el Sistema Solar')\n",
    "planetas.append('Pluton')\n",
    "print('Contando a ', planetas[-1], ' existen', len(planetas), 'planetas en el Sistema Solar')\n"
   ]
  },
  {
   "cell_type": "markdown",
   "metadata": {},
   "source": [
    "# EJERCICIO 2"
   ]
  },
  {
   "cell_type": "code",
   "execution_count": 1,
   "metadata": {},
   "outputs": [
    {
     "name": "stdout",
     "output_type": "stream",
     "text": [
      "Tu planeta es Marte el cual es el numero 4\n",
      "Los planetas mas cercanos al que elegiste:  ['Mercurio', 'Venus', 'Tierra']\n",
      "Los planetas mas lejanos al que elegiste:  ['Jupiter', 'Saturno', 'Urano', 'Neptuno']\n"
     ]
    }
   ],
   "source": [
    "planetas = ['Mercurio', 'Venus', 'Tierra', 'Marte', 'Jupiter', 'Saturno', 'Urano', 'Neptuno']\n",
    "opcion = input('Escoge un planeta')\n",
    "elegido = planetas.index(opcion)\n",
    "print('Tu planeta es',  opcion, 'el cual es el numero ' + str(elegido + 1))\n",
    "planetas_cercano = planetas[0:elegido]\n",
    "planetas_lejanos = planetas[elegido + 1:]\n",
    "print('Los planetas mas cercanos al que elegiste: ', planetas_cercano)\n",
    "print('Los planetas mas lejanos al que elegiste: ', planetas_lejanos)"
   ]
  }
 ],
 "metadata": {
  "interpreter": {
   "hash": "669f5abd92f1a410df15b0643b9f42360e277a412fc08ae8bc7d7911cf7e8f3d"
  },
  "kernelspec": {
   "display_name": "Python 3.10.2 64-bit",
   "language": "python",
   "name": "python3"
  },
  "language_info": {
   "codemirror_mode": {
    "name": "ipython",
    "version": 3
   },
   "file_extension": ".py",
   "mimetype": "text/x-python",
   "name": "python",
   "nbconvert_exporter": "python",
   "pygments_lexer": "ipython3",
   "version": "3.10.2"
  },
  "orig_nbformat": 4
 },
 "nbformat": 4,
 "nbformat_minor": 2
}
